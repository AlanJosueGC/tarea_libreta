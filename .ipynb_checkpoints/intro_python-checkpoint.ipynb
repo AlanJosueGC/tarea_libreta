{
 "cells": [
  {
   "cell_type": "markdown",
   "metadata": {
    "id": "wH2Hw63bN1uq"
   },
   "source": [
    "<a href=\"https://colab.research.google.com/github/mcd-unison/material-programacion/blob/main/intro-python.ipynb\" target=\"_parent\"><img src=\"https://colab.research.google.com/assets/colab-badge.svg\" alt=\"Open In Colab\"/></a>"
   ]
  },
  {
   "cell_type": "markdown",
   "metadata": {
    "id": "lnbUFc1eN1ux"
   },
   "source": [
    "<center>\n",
    "<p><img src=\"https://mcd.unison.mx/wp-content/themes/awaken/img/logo_mcd.png\" width=\"100\">\n",
    "</p>\n",
    "\n",
    "\n",
    "\n",
    "# Curso Propedéutico en *Programación*\n",
    "\n",
    "## Introducción a `python` resolviendo preguntas\n",
    "\n",
    "\n",
    "**Julio Waissman Vilanova**\n",
    "\n"
   ]
  },
  {
   "cell_type": "markdown",
   "metadata": {
    "id": "Pr7YWlkcN1uz"
   },
   "source": [
    "### Tipos\n",
    "\n",
    "¿Cuales son los tipos de datos básicos? Revisa los tipos siguientes:\n",
    "\n",
    "1. Tipos numéricos `int`, `float`, `complex`\n",
    "2. Cadenas de caracteres\n",
    "3. Tuplas\n",
    "4. Listas\n",
    "5. Diccionarios\n",
    "6. Conjuntos\n",
    "\n",
    "Da ejemplo de sobrecarga de operadores (en particular `+` y `*`)\n",
    "\n"
   ]
  },
  {
   "cell_type": "code",
   "execution_count": 142,
   "metadata": {
    "id": "tjdErxUDN1u0"
   },
   "outputs": [
    {
     "name": "stdout",
     "output_type": "stream",
     "text": [
      "3 + 7i\n",
      "-10 + 11i\n"
     ]
    }
   ],
   "source": [
    "#lo haremos para suma y multiplicación de numeros complejos\n",
    "class n_complejo:\n",
    "    def __init__(self, real, imag):\n",
    "        self.real = real\n",
    "        self.imag = imag\n",
    "\n",
    "    def __add__(self, Z):\n",
    "        real = self.real + Z.real\n",
    "        imag = self.imag + Z.imag\n",
    "        return n_complejo(real, imag)\n",
    "\n",
    "    def __mul__(self, Z):\n",
    "        real = self.real * Z.real - self.imag * Z.imag\n",
    "        imag = self.real * Z.imag + self.imag * Z.real\n",
    "        return n_complejo(real, imag)\n",
    "\n",
    "    def __repr__(self):\n",
    "        return f\"{self.real} + {self.imag}i\"\n",
    "\n",
    "# Uso de la clase con operadores sobrecargados\n",
    "z1 = n_complejo(2, 3)\n",
    "z2 = n_complejo(1, 4)\n",
    "\n",
    "print(z1 + z2)  \n",
    "print(z1 * z2)  "
   ]
  },
  {
   "cell_type": "markdown",
   "metadata": {
    "id": "_VritTBhN1u1"
   },
   "source": [
    "¿Que significa que unos tipos sean *mutables* y otros *inmutables*?\n",
    "\n",
    "Realiza un pequeño programa donde quede claro lo que significa que un tipo de datos sea mutable, e ilustra el uso del método `copy.deepcopy()`."
   ]
  },
  {
   "cell_type": "code",
   "execution_count": 143,
   "metadata": {
    "id": "vQ0GvXQEN1u2"
   },
   "outputs": [
    {
     "name": "stdout",
     "output_type": "stream",
     "text": [
      "Lista original: [1, 2, [3, 4]]\n",
      "Tupla original: (1, 2, (3, 4))\n",
      "Error al intentar modificar la tupla: 'tuple' object does not support item assignment\n",
      "Error al intentar modificar la copia profunda de la tupla: 'tuple' object does not support item assignment\n",
      "Lista original después de modificaciones: [1, 2, [30, 4], 5]\n",
      "Lista copia profunda después de modificación: [1, 2, [30, 40], 5]\n",
      "Tupla original después de modificaciones: (1, 2, (3, 4))\n",
      "Tupla copia profunda después de modificación: (1, 2, (3, 4))\n"
     ]
    }
   ],
   "source": [
    "#Mutables: Si permiten ser modificados una vez creados. Por ejemplo lista\n",
    "#Inmutables: no permiten ser modificados una vez creados. Por ejemplo tupla\n",
    "import copy\n",
    "\n",
    "# Creamos una lista (mutable) y una tupla (inmutable)\n",
    "mi_lista = [1, 2, [3, 4]]  # Lista que contiene otra lista\n",
    "mi_tupla = (1, 2, (3, 4))  # Tupla que contiene otra tupla\n",
    "\n",
    "# Mostramos los objetos originales\n",
    "print(\"Lista original:\", mi_lista)\n",
    "print(\"Tupla original:\", mi_tupla)\n",
    "\n",
    "# Ahora modificamos el contenido de la lista y la lista dentro de la tupla\n",
    "mi_lista[2][0] = 30  \n",
    "mi_lista.append(5)   \n",
    "\n",
    "# Si intentamos modificar la tupla directamente nos dará un error, pero podemos mostrar cómo no cambia\n",
    "try:\n",
    "    mi_tupla[2][0] = 30\n",
    "except TypeError as e:\n",
    "    print(\"Error al intentar modificar la tupla:\", e)\n",
    "\n",
    "# Usamos copy.deepcopy() para crear copias profundas\n",
    "lista_copia_profunda = copy.deepcopy(mi_lista)\n",
    "tupla_copia_profunda = copy.deepcopy(mi_tupla)\n",
    "\n",
    "# Ahora modificamos las copias profundas\n",
    "lista_copia_profunda[2][1] = 40\n",
    "# Aunque intentemos modificar el contenido de la tupla, solo se puede si contiene elementos mutables\n",
    "try:\n",
    "    tupla_copia_profunda[2][1] = 40\n",
    "except TypeError as e:\n",
    "    print(\"Error al intentar modificar la copia profunda de la tupla:\", e)\n",
    "\n",
    "# Mostramos los objetos después de la modificación\n",
    "print(\"Lista original después de modificaciones:\", mi_lista)\n",
    "print(\"Lista copia profunda después de modificación:\", lista_copia_profunda)\n",
    "print(\"Tupla original después de modificaciones:\", mi_tupla)\n",
    "print(\"Tupla copia profunda después de modificación:\", tupla_copia_profunda)"
   ]
  },
  {
   "cell_type": "markdown",
   "metadata": {
    "id": "45pk0b8_N1u2"
   },
   "source": [
    "### *Comprehension* de listas, conjuntos y diccionarios\n",
    "\n",
    "Escribe, en una sola linea, una expresión que genere una lista con todos los números enteros que se encuentran entre $1$ y $n$\n",
    "que sean divisibles por $3$ y $7$ y que el dígito menos significativo del número sea $6$."
   ]
  },
  {
   "cell_type": "code",
   "execution_count": 144,
   "metadata": {
    "id": "5OlJhtDWN1u3"
   },
   "outputs": [
    {
     "name": "stdout",
     "output_type": "stream",
     "text": [
      "{126: 11.224972160321824, 336: 18.33030277982336, 546: 23.366642891095847, 756: 27.49545416973504, 966: 31.080540535840107, 1176: 34.292856398964496, 1386: 37.22902093797257, 1596: 39.949968710876355, 1806: 42.49705872175156, 2016: 44.8998886412873, 2226: 47.18050444834179, 2436: 49.35585071701227, 2646: 51.43928459844674, 2856: 53.44155686354955, 3066: 55.37147279962851, 3276: 57.23635208501674, 3486: 59.04235767650204, 3696: 60.794736614282655, 3906: 62.49799996799898, 4116: 64.15605972938177, 4326: 65.7723346096214, 4536: 67.34983296193094, 4746: 68.89121859859934, 4956: 70.39886362719217, 5166: 71.87489130426563, 5376: 73.32121111929344, 5586: 74.73954776421918, 5796: 76.13146524269712, 6006: 77.49838707999025, 6216: 78.8416133777081, 6426: 80.16233529532433, 6636: 81.4616474176652, 6846: 82.74055837375042, 7056: 84.0, 7266: 85.24083528450434, 7476: 86.46386528486914, 7686: 87.66983517721475, 7896: 88.85943956609225, 8106: 90.033327162779, 8316: 91.19210492142398, 8526: 92.33634170791044, 8736: 93.46657156438339, 8946: 94.58329662260668, 9156: 95.68698971124549, 9366: 96.77809669548166, 9576: 97.85703858180054, 9786: 98.92421341612983, 9996: 99.9799979995999}\n"
     ]
    }
   ],
   "source": [
    "n = 10000\n",
    "\n",
    "# Escribe aqui el *one linner*\n",
    "lista = {x:x**(1/2) for x in range (1,n+1) if x%3==0 and x%7==0 and x%10 == 6}\n",
    "\n",
    "print(lista)"
   ]
  },
  {
   "cell_type": "markdown",
   "metadata": {
    "id": "l-SCJV0hN1u5"
   },
   "source": [
    "### Funciones\n",
    "\n",
    "Escribe una función que:\n",
    "\n",
    "1. reciba una lista de elementos (letras, números, lo que sea),\n",
    "2. cuente la ocurrencia de cada elemento en la lista,\n",
    "3. devuelva las ocurrencias en forma de diccionario,\n",
    "4. si imprime es True, imprima un histograma de ocurrencias, por ejemplo:\n",
    "\n",
    "```python\n",
    "\n",
    "lista = [1,'a',1, 13, 'hola', 'a', 1, 1, 'a', 1]\n",
    "\n",
    "d = funcion_ejemplo(lista, imprime = True)\n",
    "\n",
    "1    \t\t***** \t(5 -> 50%)\n",
    "'a'  \t\t***   \t(3 -> 30%)\n",
    "13\t\t*\t(1 -> 10%)\n",
    "'hola'\t\t*\t(1 -> 10%)\n",
    "\n",
    "```"
   ]
  },
  {
   "cell_type": "code",
   "execution_count": 145,
   "metadata": {
    "id": "9RRp5b4RN1u6"
   },
   "outputs": [],
   "source": [
    "# Escribe la función aquí\n",
    "def funcion_ejemplo(lista, imprime=False):\n",
    "    \"\"\"\n",
    "    Genera un diccionario con las ocurrencias de cada elemento diferente de lista.\n",
    "\n",
    "    Si imprime==True, imprime en pantalla las ocurrencias\n",
    "    \"\"\"\n",
    "    \n",
    "    d = { x: lista.count(x) for x in set(lista)}\n",
    "    \n",
    "    if imprime:\n",
    "        for (key, val) in d.items():\n",
    "            print(f\"{key}\\t\\t{val * '*'}\\t\\t({val} --> ({val / len(lista):.0%}))\")\n",
    "            \n",
    "    return d"
   ]
  },
  {
   "cell_type": "code",
   "execution_count": 146,
   "metadata": {
    "id": "oMFlvyugN1u6"
   },
   "outputs": [
    {
     "name": "stdout",
     "output_type": "stream",
     "text": [
      "1\t\t*****\t\t(5 --> (50%))\n",
      "hola\t\t*\t\t(1 --> (10%))\n",
      "13\t\t*\t\t(1 --> (10%))\n",
      "a\t\t***\t\t(3 --> (30%))\n",
      "{1: 5, 'hola': 1, 13: 1, 'a': 3}\n"
     ]
    }
   ],
   "source": [
    "# Realiza pruebas aquí\n",
    "lista = [1,'a',1, 13, 'hola', 'a', 1, 1, 'a', 1]\n",
    "d = funcion_ejemplo(lista, imprime = True)\n",
    "print(d)"
   ]
  },
  {
   "cell_type": "markdown",
   "metadata": {
    "id": "wD2sb03VN1u7"
   },
   "source": [
    "Escribe una función que modifique un diccionario y regrese el diccionario modificado y una copia del original, donde cada entrada\n",
    "del diccionario sea una lista de valores. Ten en cuenta que si una entrada del diccionario es de tipo mutable, al modificarlo en la\n",
    "copia se modifica el original. Utiliza el modulo `copy` para evitar este problema. Ejemplo de la función:\n",
    "\n",
    "```python\n",
    "dic1 = {'Pepe':[12, 'enero', 1980], 'Carolina':[15,'mayo',1975],'Paco':[10,'nov',1970]}\n",
    "dic2 = fundicos(dic1, 'Pepe', 1, 'febrero')\n",
    "\n",
    "print(dic1)\n",
    "{'Pepe':[12, 'enero', 1980], 'Carolina':[15,'mayo',1975],'Paco':[10,'nov',1970]}\n",
    "\n",
    "print(dic2)\n",
    "{'Pepe':[12, 'febrero', 1980], 'Carolina':[15,'mayo',1975],'Paco':[10,'nov',1970]}\n",
    "```"
   ]
  },
  {
   "cell_type": "code",
   "execution_count": 147,
   "metadata": {
    "id": "SjD156hLN1u7"
   },
   "outputs": [],
   "source": [
    "# Escribe la función fundicos aquí\n",
    "import copy\n",
    "\n",
    "def fundicos(dic, key, indice, valor):\n",
    "    \"\"\"\n",
    "     Hacemos una copia profunda del diccionario original\n",
    " \n",
    "    y modificamos la copia\n",
    "    \"\"\"\n",
    "    dic_copia = copy.deepcopy(dic)\n",
    "    \n",
    "    if key in dic and isinstance(dic[key], list) and 0 <= indice < len(dic[key]):\n",
    "        dic_copia[key][indice] = valor\n",
    "    \n",
    "    return dic_copia"
   ]
  },
  {
   "cell_type": "code",
   "execution_count": 148,
   "metadata": {
    "id": "eZy7L4vIN1u8"
   },
   "outputs": [
    {
     "name": "stdout",
     "output_type": "stream",
     "text": [
      "{'Pepe': [12, 'enero', 1980], 'Carolina': [15, 'mayo', 1975], 'Paco': [10, 'nov', 1970]}\n",
      "{'Pepe': [12, 'febrero', 1980], 'Carolina': [15, 'mayo', 1975], 'Paco': [10, 'nov', 1970]}\n"
     ]
    }
   ],
   "source": [
    "# Realiza pruebas de fundicos aquí\n",
    "dic1 = {'Pepe':[12, 'enero', 1980], 'Carolina':[15,'mayo',1975],'Paco':[10,'nov',1970]}\n",
    "dic2 = fundicos(dic1, 'Pepe', 1, 'febrero')\n",
    "\n",
    "print(dic1)\n",
    "print(dic2)"
   ]
  },
  {
   "cell_type": "markdown",
   "metadata": {
    "id": "4H-FZSMmN1u8"
   },
   "source": [
    "### Generadores\n",
    "\n",
    "Escribe un generador que reciba una lista y genere todas las permutaciones que se puedan hacer con los elementos de la lista"
   ]
  },
  {
   "cell_type": "code",
   "execution_count": 149,
   "metadata": {
    "id": "DaKbwIVJN1u9"
   },
   "outputs": [],
   "source": [
    "# Escribe aqui fun1\n",
    "def permutaciones(lista):\n",
    "    \"\"\"\n",
    "    Permutaciones de los elementos de una lista.\n",
    "\n",
    "    Devuelve un generador con todas las permutaciones posibles de los elementos de la lista de entrada\n",
    "    \"\"\"\n",
    "    #TODO: Implementar la función\n",
    "    if len(lista) == 0:\n",
    "        yield lista\n",
    "    else:\n",
    "        for (i, elemento) in enumerate(lista):\n",
    "            lista_menos_elem = lista[:i] + lista[i+1:]\n",
    "            for perm in permutaciones(lista_menos_elem):\n",
    "                yield [elemento] + perm"
   ]
  },
  {
   "cell_type": "code",
   "execution_count": 150,
   "metadata": {
    "id": "dO-wsSvEN1u9"
   },
   "outputs": [
    {
     "name": "stdout",
     "output_type": "stream",
     "text": [
      "['a', 'b', 'c', 'd']\n",
      "['a', 'b', 'd', 'c']\n",
      "['a', 'c', 'b', 'd']\n",
      "['a', 'c', 'd', 'b']\n",
      "['a', 'd', 'b', 'c']\n",
      "['a', 'd', 'c', 'b']\n",
      "['b', 'a', 'c', 'd']\n",
      "['b', 'a', 'd', 'c']\n",
      "['b', 'c', 'a', 'd']\n",
      "['b', 'c', 'd', 'a']\n",
      "['b', 'd', 'a', 'c']\n",
      "['b', 'd', 'c', 'a']\n",
      "['c', 'a', 'b', 'd']\n",
      "['c', 'a', 'd', 'b']\n",
      "['c', 'b', 'a', 'd']\n",
      "['c', 'b', 'd', 'a']\n",
      "['c', 'd', 'a', 'b']\n",
      "['c', 'd', 'b', 'a']\n",
      "['d', 'a', 'b', 'c']\n",
      "['d', 'a', 'c', 'b']\n",
      "['d', 'b', 'a', 'c']\n",
      "['d', 'b', 'c', 'a']\n",
      "['d', 'c', 'a', 'b']\n",
      "['d', 'c', 'b', 'a']\n"
     ]
    }
   ],
   "source": [
    "# Realiza pruebas de fun2 aquí\n",
    "for p in permutaciones(['a', 'b', 'c', 'd']):\n",
    "    print(p)"
   ]
  },
  {
   "cell_type": "markdown",
   "metadata": {
    "id": "QPlOHCsJN1u9"
   },
   "source": [
    "Ahora escribe una funcipn que reciba 4 digitos del 0 al 9, y devuelva una lista con todas las horas váidas que se puedan hacer con estos dígitos en forma de lista de strings con la forma `\"HH:MM\"`."
   ]
  },
  {
   "cell_type": "code",
   "execution_count": 151,
   "metadata": {
    "id": "wXcXGbRON1u9"
   },
   "outputs": [],
   "source": [
    "def horas_validas(lista):\n",
    "    \"\"\"\n",
    "    Generamos todas las permutaciones posibles\n",
    "    usando la funcion permutaciones creada antes\n",
    "\n",
    "    Convertimos los dígitos a las partes de la hora\n",
    "\n",
    "    y verificamos si la hora y los minutos son válidos\n",
    "    \"\"\"\n",
    "    #TODO: Implementar la función\n",
    "    digitos = lista\n",
    "    horas_validas = []\n",
    "\n",
    "    for p in permutaciones(digitos):\n",
    "        H1, H2, m1, m2 = p\n",
    "        \n",
    "        horas = (10 * H1) + H2\n",
    "        minutos = (10 * m1) + m2\n",
    "        \n",
    "        if 0 <= horas < 24 and 0 <= minutos < 60:\n",
    "            horas_validas.append(f\"{H1}{H2}:{m1}{m2}\")\n",
    "\n",
    "    return horas_validas"
   ]
  },
  {
   "cell_type": "markdown",
   "metadata": {
    "id": "EG350HkPN1u-"
   },
   "source": [
    "Validando:"
   ]
  },
  {
   "cell_type": "code",
   "execution_count": 152,
   "metadata": {
    "id": "7_m5lvXYN1u-"
   },
   "outputs": [
    {
     "name": "stdout",
     "output_type": "stream",
     "text": [
      "['12:34', '12:43', '13:24', '13:42', '14:23', '14:32', '21:34', '21:43', '23:14', '23:41']\n"
     ]
    }
   ],
   "source": [
    "print(horas_validas([1,2,3,4]))"
   ]
  },
  {
   "cell_type": "markdown",
   "metadata": {
    "id": "d18MlLc5N1u-"
   },
   "source": [
    "Escribe una función, lo más compacta posible, que escoja entre los 3 patrones ascii a continuación, e imprima en pantalla\n",
    "el deseado, pero de dimensión $n$ ($n \\ge 4$), toma en cuanta que para algunos valores de $n$ habrá\n",
    "algún(os) patrones que no se puedan hacer.\n",
    "\n",
    "```\n",
    "          *             ++++           oooooooo\n",
    "          **            ++++           ooo  ooo\n",
    "          ***           ++++           oo    oo\n",
    "          ****          ++++           o      o\n",
    "          *****             ++++       o      o\n",
    "          ******            ++++       oo    oo\n",
    "          *******           ++++       ooo  ooo\n",
    "          ********          ++++       oooooooo\n",
    "\n",
    "```"
   ]
  },
  {
   "cell_type": "code",
   "execution_count": 153,
   "metadata": {
    "id": "av3khniTN1u_"
   },
   "outputs": [],
   "source": [
    "# Escribe aquí la función"
   ]
  },
  {
   "cell_type": "code",
   "execution_count": 154,
   "metadata": {
    "id": "YB4gJdShN1u_"
   },
   "outputs": [],
   "source": [
    "#Realiza pruebas aquí\n"
   ]
  },
  {
   "cell_type": "markdown",
   "metadata": {
    "id": "n2S-uZY6N1u_"
   },
   "source": [
    "### Clases y objetos\n",
    "\n",
    "Diseña una clase Matriz con las siguientes características:\n",
    "\n",
    "1. Como inicialización de un objeto es necesario conocer $n$, $m$ y tipo. En caso de no proporcionar $m$ la matriz se asume cuadrada de $n \\times n$. En caso de no proporcionar $n$ la matriz tendrá una dimensión de $1 \\times 1$.\n",
    "2. De no especificarse todos los elementos se inicializan a 0, a menos que exista un tipo especial ( `unos` o `diag` por el momento).\n",
    "3. Implementa con sobrecarga la suma de matrices, la multiplicación de matrices y la multiplicación por un escalar.\n",
    "4. Implementa como métodos eliminar columna y eliminar fila.   \n",
    "5. Programa la representación visual de la matriz.\n",
    "6. Ten en cuenta tambien el manejo de errores.\n",
    "\n",
    "\n",
    "Ejemplo de uso:\n",
    "\n",
    "```\n",
    ">>> A = Matriz(n=3, m=4)\n",
    "\n",
    ">>> print(A)\n",
    "0 0 0 0\n",
    "0 0 0 0\n",
    "0 0 0 0\n",
    "\n",
    ">>> A = A.quitafila(2)\n",
    "\n",
    ">>> print(A)\n",
    "0 0 0 0\n",
    "0 0 0 0\n",
    "\n",
    ">>> B = Matriz(4,4,'diag')\n",
    "\n",
    ">>> print(B)\n",
    "1 0 0 0\n",
    "0 1 0 0\n",
    "0 0 1 0\n",
    "0 0 0 1\n",
    "\n",
    ">>> C = Matriz(4,1,'unos')\n",
    "\n",
    ">>> print(C)\n",
    "1\n",
    "1\n",
    "1\n",
    "1\n",
    "\n",
    ">>> D = 3 * B * C\n",
    "\n",
    ">>> print(D)\n",
    "3\n",
    "3\n",
    "3\n",
    "3\n",
    "\n",
    ">>> E = 3 * B + C\n",
    "error \"No seas menso, si no son de la misma dimensión las matrices no se pueden sumar\"\n",
    "```"
   ]
  },
  {
   "cell_type": "code",
   "execution_count": 155,
   "metadata": {
    "id": "PxJ_2BRCN1u_"
   },
   "outputs": [],
   "source": [
    "# Desarrolla aqui la clase\n",
    "class Matriz:\n",
    "    def __init__(self, n=None, m=None, tipo=None):\n",
    "        \"\"\"\n",
    "        Consideramos los casos donde no se especifica m ni n, cuando no se especifica n\n",
    "        y cuando no se espicifica m\n",
    "\n",
    "        Despues iniciamos la matriz según el tipo: unos, diag y si esta vacia la llenamos de ceros\n",
    "\n",
    "        Implementamos con sobrecarga la suma de matrices, la multiplicación de matrices y \n",
    "        la multiplicación por un escalar.\n",
    "\n",
    "        Al final se implementan como métodos eliminar columna y eliminar fila.\n",
    "        \"\"\"\n",
    "\n",
    "        if n is None and m is None:\n",
    "            n = m = 1\n",
    "        elif n is None:\n",
    "            n = m\n",
    "        elif m is None:\n",
    "            m = n\n",
    "        \n",
    "        self.n = n\n",
    "        self.m = m\n",
    "        \n",
    "        # Inicializar la matriz según el tipo\n",
    "        if tipo == 'unos':\n",
    "            self.data = [[1 for _ in range(m)] for _ in range(n)]\n",
    "        elif tipo == 'diag':\n",
    "            self.data = [[1 if i == j else 0 for j in range(m)] for i in range(n)]\n",
    "        else:\n",
    "            self.data = [[0 for _ in range(m)] for _ in range(n)]\n",
    "    \n",
    "    def __repr__(self):\n",
    "        return '\\n'.join([' '.join(map(str, row)) for row in self.data])\n",
    "        \n",
    "    #Para sumar\n",
    "    def __add__(self, other):\n",
    "        if not isinstance(other, Matriz):\n",
    "            print(\"Error: Estas mal, la suma solo se puede hacer entre objetos de tipo Matriz\")\n",
    "        elif self.n != other.n or self.m != other.m:\n",
    "            print(\"Error: No seas menso, si no son de la misma dimensión las matrices no se pueden sumar\")\n",
    "        else:\n",
    "            result = Matriz(self.n, self.m)\n",
    "            for i in range(self.n):\n",
    "                for j in range(self.m):\n",
    "                    result.data[i][j] = self.data[i][j] + other.data[i][j]\n",
    "        \n",
    "            return result\n",
    "            \n",
    "    #para la multiplicación\n",
    "    def __mul__(self, other):\n",
    "        if isinstance(other, (int, float)):  # Multiplicación por un escalar\n",
    "            result = Matriz(self.n, self.m)\n",
    "            for i in range(self.n):\n",
    "                for j in range(self.m):\n",
    "                    result.data[i][j] = self.data[i][j] * other\n",
    "            return result\n",
    "        elif isinstance(other, Matriz):  # Multiplicación de matrices\n",
    "            if self.m != other.n:\n",
    "                print(\"Error: Acuerdate que el número de columnas de la primera matriz debe ser igual al número de filas de la segunda matriz\")\n",
    "            else:\n",
    "                result = Matriz(self.n, other.m)\n",
    "                for i in range(self.n):\n",
    "                    for j in range(other.m):\n",
    "                        result.data[i][j] = sum(self.data[i][k] * other.data[k][j] for k in range(self.m))\n",
    "                return result\n",
    "        else:\n",
    "            print(\"Error: La multiplicación solo se puede hacer con un escalar o con otra matriz\")\n",
    "    \n",
    "    def __rmul__(self, other):\n",
    "        # Este método permite la multiplicación por un escalar desde el lado izquierdo\n",
    "        return self.__mul__(other)\n",
    "    \n",
    "    def quitafila(self, fila):\n",
    "        if (0 <= fila < self.n):\n",
    "            self.data.pop(fila)\n",
    "            self.n -= 1\n",
    "            return self\n",
    "        else:\n",
    "            print(\"Error: El índice de fila esta fuera de rango, se comienza a contar desde el 0.\")\n",
    "    \n",
    "    def quitacolumna(self, columna):\n",
    "        if (0 <= columna < self.m):\n",
    "            for row in self.data:\n",
    "                row.pop(columna)\n",
    "            self.m -= 1\n",
    "            return self\n",
    "        else:\n",
    "            print(\"Error: El índice de columna esta fuera de rango, se comienza a contar desde el 0.\")"
   ]
  },
  {
   "cell_type": "code",
   "execution_count": 156,
   "metadata": {
    "id": "EoKhxWeaN1vA"
   },
   "outputs": [
    {
     "name": "stdout",
     "output_type": "stream",
     "text": [
      "A = \n",
      "  0 0 0 0\n",
      "0 0 0 0\n",
      "0 0 0 0\n",
      "A = \n",
      " 0 0 0 0\n",
      "0 0 0 0\n",
      "B = \n",
      " 1 0 0 0\n",
      "0 1 0 0\n",
      "0 0 1 0\n",
      "0 0 0 1\n",
      "C = \n",
      " 1\n",
      "1\n",
      "1\n",
      "1\n",
      "D = \n",
      " 3\n",
      "3\n",
      "3\n",
      "3\n",
      "Error: No seas menso, si no son de la misma dimensión las matrices no se pueden sumar\n",
      "E = \n",
      " None\n"
     ]
    }
   ],
   "source": [
    "# Realiza las pruebas a la clase aquí\n",
    "A = Matriz(n=3, m=4)\n",
    "print('A = \\n ',A)\n",
    "\n",
    "A = A.quitafila(2)\n",
    "print('A = \\n', A)\n",
    "\n",
    "B = Matriz(4,4,'diag')\n",
    "print('B = \\n', B)\n",
    "\n",
    "C = Matriz(4,1,'unos')\n",
    "print('C = \\n', C)\n",
    "\n",
    "D = 3 * B * C\n",
    "print('D = \\n', D)\n",
    "\n",
    "E = 3 * B + C\n",
    "print('E = \\n', E)"
   ]
  }
 ],
 "metadata": {
  "colab": {
   "provenance": []
  },
  "kernelspec": {
   "display_name": "Python 3 (ipykernel)",
   "language": "python",
   "name": "python3"
  },
  "language_info": {
   "codemirror_mode": {
    "name": "ipython",
    "version": 3
   },
   "file_extension": ".py",
   "mimetype": "text/x-python",
   "name": "python",
   "nbconvert_exporter": "python",
   "pygments_lexer": "ipython3",
   "version": "3.9.7"
  }
 },
 "nbformat": 4,
 "nbformat_minor": 4
}
